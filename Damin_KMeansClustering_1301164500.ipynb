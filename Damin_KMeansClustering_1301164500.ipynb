{
  "nbformat": 4,
  "nbformat_minor": 0,
  "metadata": {
    "colab": {
      "name": "Damin_KMeansClustering_1301164500.ipynb",
      "provenance": [],
      "authorship_tag": "ABX9TyNZQkvH4C9c/EwPUdTXYcsI",
      "include_colab_link": true
    },
    "kernelspec": {
      "name": "python3",
      "display_name": "Python 3"
    }
  },
  "cells": [
    {
      "cell_type": "markdown",
      "metadata": {
        "id": "view-in-github",
        "colab_type": "text"
      },
      "source": [
        "<a href=\"https://colab.research.google.com/github/FachrezaAl/Damin_KmeansClustering/blob/master/Damin_KMeansClustering_1301164500.ipynb\" target=\"_parent\"><img src=\"https://colab.research.google.com/assets/colab-badge.svg\" alt=\"Open In Colab\"/></a>"
      ]
    },
    {
      "cell_type": "code",
      "metadata": {
        "id": "hWCB_uGRAthj",
        "colab_type": "code",
        "colab": {
          "base_uri": "https://localhost:8080/",
          "height": 324
        },
        "outputId": "5dfc043a-b5ae-452d-8588-323e1f4195d6"
      },
      "source": [
        "import pandas as pd\n",
        "import numpy as np\n",
        "import matplotlib.pyplot as plt\n",
        "%matplotlib inline\n",
        "\n",
        "\n",
        "jumlahData = 20\n",
        "\n",
        "def dataRandom():\n",
        "    x = []\n",
        "    y = []\n",
        "    for i in range(jumlahData):\n",
        "        x.append(np.random.randint(0,80))\n",
        "        y.append(np.random.randint(0, 80))\n",
        "    return x,y\n",
        "\n",
        "x,y = dataRandom()\n",
        "\n",
        "data = pd.DataFrame({\n",
        "    'x': x,\n",
        "    'y': y\n",
        "})\n",
        "\n",
        "\n",
        "\"\"\"\n",
        "data = pd.DataFrame({\n",
        "    'x': [12, 20, 28, 18, 29, 33, 24, 45, 45, 52, 51, 52, 55, 53, 55, 61, 64, 69, 72],\n",
        "    'y': [39, 36, 30, 52, 54, 46, 55, 49, 63, 70, 66, 63, 58, 23, 14, 8, 19, 7, 24]\n",
        "})\n",
        "\"\"\"\n",
        "\n",
        "np.random.seed(200)\n",
        "k = 3\n",
        "# centroids[i] [x,y]\n",
        "centroids = {\n",
        "    i+1: [np.random.randint(0, 80), np.random.randint(0, 80)]\n",
        "    for i in range(k)\n",
        "}\n",
        "\n",
        "fig = plt.figure(figsize=(5, 5))\n",
        "plt.scatter(data['x'], data['y'], color='k')\n",
        "colmap = {1: 'r', 2: 'g', 3: 'b'}\n",
        "for i in centroids.keys():\n",
        "        plt.scatter(*centroids[i], color=colmap[i])\n",
        "plt.xlim(0,80)\n",
        "plt.ylim(0,80)\n",
        "plt.show()\n",
        "    \n",
        "\n"
      ],
      "execution_count": 11,
      "outputs": [
        {
          "output_type": "display_data",
          "data": {
            "image/png": "[encoded data removed]",
            "text/plain": [
              "<Figure size 360x360 with 1 Axes>"
            ]
          },
          "metadata": {
            "tags": []
          }
        }
      ]
    },
    {
      "cell_type": "code",
      "metadata": {
        "id": "c4o2awVNKKXC",
        "colab_type": "code",
        "colab": {
          "base_uri": "https://localhost:8080/",
          "height": 460
        },
        "outputId": "f0f67402-3269-4076-cd96-7cbc8fbd972b"
      },
      "source": [
        "## Assignment stage\n",
        "\n",
        "def assignment(data, centroids):\n",
        "    for i in centroids.keys():\n",
        "        # rumus = sqrt((x1 - x2) - (y1 - y2)^2)\n",
        "        data['Distance From {}'.format(i)] = (\n",
        "            np.sqrt(\n",
        "                (data['x'] - centroids[i][0]) ** 2\n",
        "                + (data['y'] - centroids[i][1]) ** 2\n",
        "            )\n",
        "        )\n",
        "    centroid_Distance = ['Distance from {}'.format(i) for i in centroids.keys()]\n",
        "    data['closet'] = data.loc[:, centroid_Distance].idxmin(axis=1)\n",
        "    data['closet'] = data['closet'].map(lambda x: int(x.lstrip('Distance from')))\n",
        "    data['color'] = data['closet'].map(lambda x: colmap[x])\n",
        "    return data\n",
        "\n",
        "data = assignment(data,centroids)\n",
        "print(data.head())\n",
        "\n",
        "fig = plt.figure(figsize=(5, 5))\n",
        "plt.scatter(data['x'], data['y'], color=data['color'], alpha=0.5, edgecolor='k')\n",
        "for i in centroids.keys():\n",
        "        plt.scatter(*centroids[i], color=colmap[i])\n",
        "plt.xlim(0,80)\n",
        "plt.ylim(0,80)\n",
        "plt.show()"
      ],
      "execution_count": 25,
      "outputs": [
        {
          "output_type": "stream",
          "text": [
            "    x   y  Distance From 1  ...  Distance from 2  Distance from 3  closet\n",
            "0  44  12        18.439089  ...        38.418745        64.938432       1\n",
            "1  72  45        54.378304  ...         5.000000        35.355339       2\n",
            "2   6  63        51.078371  ...        65.459911        50.695167       3\n",
            "3   9  61        48.104054  ...        61.983869        48.383882       1\n",
            "4  14  69        54.341513  ...        60.373835        41.593269       3\n",
            "\n",
            "[5 rows x 14 columns]\n"
          ],
          "name": "stdout"
        },
        {
          "output_type": "display_data",
          "data": {
            "image/png": "[encoded data removed]",
            "text/plain": [
              "<Figure size 360x360 with 1 Axes>"
            ]
          },
          "metadata": {
            "tags": []
          }
        }
      ]
    },
    {
      "cell_type": "code",
      "metadata": {
        "id": "7MF54bfvQE3V",
        "colab_type": "code",
        "colab": {
          "base_uri": "https://localhost:8080/",
          "height": 324
        },
        "outputId": "1a58ae5f-ce06-4406-88e5-35b3b9f3a13b"
      },
      "source": [
        "## Update Stage\n",
        "\n",
        "import copy\n",
        "\n",
        "old_centroids = copy.deepcopy(centroids)\n",
        "\n",
        "def update(k):\n",
        "    for i in centroids.keys():\n",
        "        centroids[i][0] = np.mean(data[data['closet'] == i]['x'])\n",
        "        centroids[i][1] = np.mean(data[data['closet'] == i]['y'])\n",
        "    return k\n",
        "\n",
        "centroids = update(centroids)\n",
        "\n",
        "fig = plt.figure(figsize=(5, 5))\n",
        "ax = plt.axes()\n",
        "plt.scatter(data['x'], data['y'], color=data['color'], alpha=0.5, edgecolor='k')\n",
        "for i in centroids.keys():\n",
        "    plt.scatter(*centroids[i], color=colmap[i])\n",
        "plt.xlim(0,80)\n",
        "plt.ylim(0,80)\n",
        "for i in old_centroids.keys():\n",
        "    old_x = old_centroids[i][0]\n",
        "    old_y = old_centroids[i][1]\n",
        "    dx = (centroids[i][0] - old_centroids[i][0]) * 0.75\n",
        "    dy = (centroids[i][1] - old_centroids[i][1]) * 0.75\n",
        "    ax.arrow(old_x, old_y, dx, dy, head_width=2, head_length=3, fc=colmap[i], ec=colmap[i])\n",
        "for i in centroids.keys():\n",
        "        plt.scatter(*centroids[i], color=colmap[i])\n",
        "plt.xlim(0,80)\n",
        "plt.ylim(0,80)\n",
        "plt.show()"
      ],
      "execution_count": 28,
      "outputs": [
        {
          "output_type": "display_data",
          "data": {
            "image/png": "[encoded data removed]",
            "text/plain": [
              "<Figure size 360x360 with 1 Axes>"
            ]
          },
          "metadata": {
            "tags": []
          }
        }
      ]
    },
    {
      "cell_type": "code",
      "metadata": {
        "id": "atTsBAUrSNRA",
        "colab_type": "code",
        "colab": {
          "base_uri": "https://localhost:8080/",
          "height": 324
        },
        "outputId": "ad2492af-eb60-4508-fda2-1d1c4620060e"
      },
      "source": [
        "## Repeat ASsignment update\n",
        "\n",
        "data = assignment(data, centroids)\n",
        "\n",
        "# hasil\n",
        "fig = plt.figure(figsize=(5, 5))\n",
        "plt.scatter(data['x'], data['y'], color=data['color'], alpha=0.5, edgecolor='k')\n",
        "for i in centroids.keys():\n",
        "        plt.scatter(*centroids[i], color=colmap[i])\n",
        "plt.xlim(0,80)\n",
        "plt.ylim(0,80)\n",
        "plt.show()\n"
      ],
      "execution_count": 29,
      "outputs": [
        {
          "output_type": "display_data",
          "data": {
            "image/png": "[encoded data removed]",
            "text/plain": [
              "<Figure size 360x360 with 1 Axes>"
            ]
          },
          "metadata": {
            "tags": []
          }
        }
      ]
    },
    {
      "cell_type": "code",
      "metadata": {
        "id": "kXO438tlSsct",
        "colab_type": "code",
        "colab": {
          "base_uri": "https://localhost:8080/",
          "height": 324
        },
        "outputId": "67aa58da-ef11-4e5a-aa0c-1c7b98fac426"
      },
      "source": [
        "# Mencari nilai\n",
        "\n",
        "while True:\n",
        "    closet_centroids = data['closet'].copy(deep=True)\n",
        "    centroids = update(centroids)\n",
        "    data = assignment(data,centroids)\n",
        "    if  closet_centroids.equals(data['closet']):\n",
        "        break\n",
        "        \n",
        "fig = plt.figure(figsize=(5, 5))\n",
        "plt.scatter(data['x'], data['y'], color=data['color'], alpha=0.5, edgecolor='k')\n",
        "for i in centroids.keys():\n",
        "        plt.scatter(*centroids[i], color=colmap[i])\n",
        "plt.xlim(0,80)\n",
        "plt.ylim(0,80)\n",
        "plt.show()\n"
      ],
      "execution_count": 30,
      "outputs": [
        {
          "output_type": "display_data",
          "data": {
            "image/png": "[encoded data removed]",
            "text/plain": [
              "<Figure size 360x360 with 1 Axes>"
            ]
          },
          "metadata": {
            "tags": []
          }
        }
      ]
    },
    {
      "cell_type": "code",
      "metadata": {
        "id": "ypbZtmpPTZ2A",
        "colab_type": "code",
        "colab": {
          "base_uri": "https://localhost:8080/",
          "height": 68
        },
        "outputId": "f6766875-2e9b-4559-8ab3-06b66c557d42"
      },
      "source": [
        "data = pd.DataFrame({\n",
        "    'x': [12, 20, 28, 18, 29, 33, 24, 45, 45, 52, 51, 52, 55, 53, 55, 61, 64, 69, 72],\n",
        "    'y': [39, 36, 30, 52, 54, 46, 55, 49, 63, 70, 66, 63, 58, 23, 14, 8, 19, 7, 24]\n",
        "})\n",
        "\n",
        "from sklearn.cluster import KMeans\n",
        "\n",
        "kmeans = KMeans(n_clusters=3)\n",
        "kmeans.fit(data)"
      ],
      "execution_count": 31,
      "outputs": [
        {
          "output_type": "execute_result",
          "data": {
            "text/plain": [
              "KMeans(algorithm='auto', copy_x=True, init='k-means++', max_iter=300,\n",
              "       n_clusters=3, n_init=10, n_jobs=None, precompute_distances='auto',\n",
              "       random_state=None, tol=0.0001, verbose=0)"
            ]
          },
          "metadata": {
            "tags": []
          },
          "execution_count": 31
        }
      ]
    },
    {
      "cell_type": "code",
      "metadata": {
        "id": "GIqvP_84TmkA",
        "colab_type": "code",
        "colab": {}
      },
      "source": [
        "labels = kmeans.predict(data)\n",
        "centroids = kmeans.cluster_centers_"
      ],
      "execution_count": 0,
      "outputs": []
    }
  ]
}